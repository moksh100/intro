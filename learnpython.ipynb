{
 "cells": [
  {
   "cell_type": "markdown",
   "metadata": {
    "collapsed": false
   },
   "source": [
    "#Learn Python Title\n",
    "###Georgy Mokshantsev\n",
    "###Cormac O'Connor"
   ]
  },
  {
   "cell_type": "markdown",
   "metadata": {},
   "source": [
    "What is the python syntax for the following?\n",
    "    comments, variable declarations, printing output"
   ]
  },
  {
   "cell_type": "code",
   "execution_count": 3,
   "metadata": {
    "collapsed": false
   },
   "outputs": [
    {
     "name": "stdout",
     "output_type": "stream",
     "text": [
      "Blah\n"
     ]
    }
   ],
   "source": [
    "#Comments bla\n",
    "\"\"\"\n",
    "Multiple lines\n",
    "\"\"\"\n",
    "bla = \"Blah\";\n",
    "print bla;\n"
   ]
  },
  {
   "cell_type": "markdown",
   "metadata": {},
   "source": [
    "What are the following data types?  How do you define and use them?\n",
    "    boolean, integer, float, string, list, tuple, dictionary, set"
   ]
  },
  {
   "cell_type": "code",
   "execution_count": 1,
   "metadata": {
    "collapsed": false
   },
   "outputs": [
    {
     "name": "stdout",
     "output_type": "stream",
     "text": [
      "True\n",
      "2\n",
      "2.34\n",
      "Blah\n",
      "[4, 5, 6, 7]\n",
      "2\n",
      "3\n",
      "True\n",
      "False\n"
     ]
    }
   ],
   "source": [
    "\n",
    "isCorrect = bool(1);\n",
    "print isCorrect;\n",
    "\n",
    "blaint = 2;\n",
    "print blaint;\n",
    "\n",
    "blafloat = 2.34;\n",
    "print blafloat;\n",
    "\n",
    "bla = \"Blah\";\n",
    "print bla;\n",
    "\n",
    "list = [4,5,6];\n",
    "list.append(7);\n",
    "print list;\n",
    "\n",
    "tuple = (1,2);\n",
    "print tuple[1];\n",
    "\n",
    "dict = {\"bla\" : 3, \"bla2\": 4};\n",
    "print dict[\"bla\"];\n",
    "\n",
    "setbla = set([1, 2]);\n",
    "print 2 in setbla;\n",
    "print 5 in setbla;\n"
   ]
  },
  {
   "cell_type": "markdown",
   "metadata": {},
   "source": [
    "What is the syntax for the following control structures?\n",
    "    if-then-else\n"
   ]
  },
  {
   "cell_type": "code",
   "execution_count": 23,
   "metadata": {
    "collapsed": false
   },
   "outputs": [
    {
     "name": "stdout",
     "output_type": "stream",
     "text": [
      "Good\n"
     ]
    }
   ],
   "source": [
    "if(1>3): \n",
    "    print \"fake\"\n",
    "elif (3==1):\n",
    "    print \"Ok\"\n",
    "else:\n",
    "    print \"Good\"\n"
   ]
  },
  {
   "cell_type": "markdown",
   "metadata": {},
   "source": [
    "What is the syntax for the following control structures?\n",
    "    for loop"
   ]
  },
  {
   "cell_type": "code",
   "execution_count": 24,
   "metadata": {
    "collapsed": false
   },
   "outputs": [
    {
     "name": "stdout",
     "output_type": "stream",
     "text": [
      "1\n",
      "2\n",
      "3\n"
     ]
    }
   ],
   "source": [
    "for f in [1,2,3]:\n",
    "    print f;\n",
    "    "
   ]
  },
  {
   "cell_type": "markdown",
   "metadata": {},
   "source": [
    "What is the syntax for the following control structures?\n",
    "   while loop"
   ]
  },
  {
   "cell_type": "code",
   "execution_count": 28,
   "metadata": {
    "collapsed": false
   },
   "outputs": [
    {
     "name": "stdout",
     "output_type": "stream",
     "text": [
      "0\n",
      "1\n",
      "2\n",
      "3\n",
      "4\n"
     ]
    }
   ],
   "source": [
    "i=0;\n",
    "while(i<5):\n",
    "    print i\n",
    "    i+=1;"
   ]
  },
  {
   "cell_type": "markdown",
   "metadata": {},
   "source": [
    "What is the syntax for the following organizational structures?\n",
    "    defining a function with a name, including docstring, *args, and **kwargs"
   ]
  },
  {
   "cell_type": "code",
   "execution_count": 2,
   "metadata": {
    "collapsed": false
   },
   "outputs": [
    {
     "name": "stdout",
     "output_type": "stream",
     "text": [
      "Some function\n",
      "Help on function somefunc in module __main__:\n",
      "\n",
      "somefunc()\n",
      "    somefunc -> print string\n",
      "\n",
      "('qwerty',)\n",
      "{'dre': 'qwerty'}\n",
      "qwerty\n"
     ]
    }
   ],
   "source": [
    "def somefunc():\n",
    "    \"\"\"somefunc -> print string\"\"\"\n",
    "    print \"Some function\"\n",
    "    \n",
    "somefunc();\n",
    "help(somefunc);\n",
    "\n",
    "def somefunc2(*args):\n",
    "    \"\"\"somefunc2 -> with args\"\"\"\n",
    "    print args\n",
    "    \n",
    "somefunc2(\"qwerty\");\n",
    "\n",
    "def somefunc3(**kwargs):\n",
    "    \"\"\"somefunc3 -> with args\"\"\"\n",
    "    print kwargs\n",
    "    print kwargs[\"dre\"]\n",
    "    \n",
    "somefunc3(dre = \"qwerty\");"
   ]
  },
  {
   "cell_type": "code",
   "execution_count": null,
   "metadata": {
    "collapsed": true
   },
   "outputs": [],
   "source": []
  },
  {
   "cell_type": "code",
   "execution_count": null,
   "metadata": {
    "collapsed": true
   },
   "outputs": [],
   "source": []
  }
 ],
 "metadata": {
  "celltoolbar": "Edit Metadata",
  "kernelspec": {
   "display_name": "Python 2",
   "language": "python",
   "name": "python2"
  },
  "language_info": {
   "codemirror_mode": {
    "name": "ipython",
    "version": 2
   },
   "file_extension": ".py",
   "mimetype": "text/x-python",
   "name": "python",
   "nbconvert_exporter": "python",
   "pygments_lexer": "ipython2",
   "version": "2.7.8"
  },
  "name": "learnpython.ipynb"
 },
 "nbformat": 4,
 "nbformat_minor": 0
}
