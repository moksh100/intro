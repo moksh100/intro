{
 "cells": [
  {
   "cell_type": "markdown",
   "metadata": {
    "collapsed": false
   },
   "source": [
    "# Learn Julia\n",
    "## In Class\n",
    "### Cormac O'Connor & Georgy Mokshantsev"
   ]
  },
  {
   "cell_type": "markdown",
   "metadata": {},
   "source": [
    "# Question 1"
   ]
  },
  {
   "cell_type": "code",
   "execution_count": 1,
   "metadata": {
    "collapsed": false
   },
   "outputs": [
    {
     "name": "stdout",
     "output_type": "stream",
     "text": [
      "1\n"
     ]
    }
   ],
   "source": [
    "#Hashtags are used for comments\n",
    "\n",
    "\n",
    "#Declare variables\n",
    "x = 1;\n",
    "\n",
    "#Printing output\n",
    "println(x);"
   ]
  },
  {
   "cell_type": "markdown",
   "metadata": {},
   "source": [
    "# Question 2\n",
    "## Defining types\n",
    "\n",
    "### The basic types in Julia are string, character, int, float"
   ]
  },
  {
   "cell_type": "code",
   "execution_count": 2,
   "metadata": {
    "collapsed": false
   },
   "outputs": [],
   "source": [
    "#Defining a type\n",
    "type Computer\n",
    "    x\n",
    "    y\n",
    "end"
   ]
  },
  {
   "cell_type": "code",
   "execution_count": 3,
   "metadata": {
    "collapsed": false
   },
   "outputs": [
    {
     "data": {
      "text/plain": [
       "Computer(\"Hello\",64)"
      ]
     },
     "execution_count": 3,
     "metadata": {},
     "output_type": "execute_result"
    }
   ],
   "source": [
    "b=Computer(\"Hello\",64)"
   ]
  },
  {
   "cell_type": "code",
   "execution_count": 4,
   "metadata": {
    "collapsed": false
   },
   "outputs": [
    {
     "data": {
      "text/plain": [
       "\"Hello\""
      ]
     },
     "execution_count": 4,
     "metadata": {},
     "output_type": "execute_result"
    }
   ],
   "source": [
    "b.x"
   ]
  },
  {
   "cell_type": "markdown",
   "metadata": {},
   "source": [
    "# Question 3\n",
    "## Control Structures in Julia\n",
    "\n",
    "### The basic control structures in Julia are if-elseif-else-end, for, enumerate, while"
   ]
  },
  {
   "cell_type": "code",
   "execution_count": 5,
   "metadata": {
    "collapsed": false
   },
   "outputs": [
    {
     "name": "stdout",
     "output_type": "stream",
     "text": [
      "1\n",
      "2\n",
      "3\n",
      "4\n",
      "5\n",
      "6\n",
      "7\n",
      "8\n",
      "9\n",
      "10\n"
     ]
    }
   ],
   "source": [
    "for i in 1:10\n",
    "    println(i)\n",
    "end"
   ]
  },
  {
   "cell_type": "code",
   "execution_count": 6,
   "metadata": {
    "collapsed": false
   },
   "outputs": [
    {
     "name": "stdout",
     "output_type": "stream",
     "text": [
      "That number is just right\n"
     ]
    }
   ],
   "source": [
    "x = 3*4\n",
    "if x < 11\n",
    "    println(\"That's a small number\")\n",
    "elseif x > 20\n",
    "    println(\"That's a big number\")\n",
    "else\n",
    "    println(\"That number is just right\")\n",
    "end"
   ]
  },
  {
   "cell_type": "code",
   "execution_count": 7,
   "metadata": {
    "collapsed": false
   },
   "outputs": [
    {
     "name": "stdout",
     "output_type": "stream",
     "text": [
      "1\n",
      "2\n",
      "3\n",
      "4\n",
      "5\n",
      "6\n",
      "7\n",
      "8\n",
      "9\n"
     ]
    }
   ],
   "source": [
    "i=1\n",
    "while i < 10\n",
    "    println(i)\n",
    "    i=i+1\n",
    "end"
   ]
  },
  {
   "cell_type": "markdown",
   "metadata": {
    "collapsed": true
   },
   "source": [
    "# Differences between Python and Julia:\n",
    "- Julia uses end to close control structures and Python doesn't\n",
    "- Python has classes and Julia doesn't\n",
    "- You can insert LaTex symbols in Julia\n",
    "\n",
    "# Similarities between Python and Julia:\n",
    "- Defining variables\n",
    "- Both use print"
   ]
  },
  {
   "cell_type": "markdown",
   "metadata": {},
   "source": [
    "# Fibonacci Sequence\n",
    "## First 100 numbers"
   ]
  },
  {
   "cell_type": "code",
   "execution_count": 1,
   "metadata": {
    "collapsed": false
   },
   "outputs": [
    {
     "data": {
      "text/plain": [
       "150-element Array{Int128,1}:\n",
       "                               1\n",
       "                               1\n",
       "                               2\n",
       "                               3\n",
       "                               5\n",
       "                               8\n",
       "                              13\n",
       "                              21\n",
       "                              34\n",
       "                              55\n",
       "                              89\n",
       "                             144\n",
       "                             233\n",
       "                               ⋮\n",
       "   50095301248058391139327916261\n",
       "   81055900096023504197206408605\n",
       "  131151201344081895336534324866\n",
       "  212207101440105399533740733471\n",
       "  343358302784187294870275058337\n",
       "  555565404224292694404015791808\n",
       "  898923707008479989274290850145\n",
       " 1454489111232772683678306641953\n",
       " 2353412818241252672952597492098\n",
       " 3807901929474025356630904134051\n",
       " 6161314747715278029583501626149\n",
       " 9969216677189303386214405760200"
      ]
     },
     "execution_count": 1,
     "metadata": {},
     "output_type": "execute_result"
    }
   ],
   "source": [
    "function fibFunc(n)\n",
    "    i=3\n",
    "    array=zeros(Int128,n)\n",
    "\n",
    "    c1=1\n",
    "    c2=1\n",
    "    array[1]=c1\n",
    "    array[2]=c2\n",
    "    while i<=n\n",
    "        c2=array[i-1]+array[i-2]\n",
    "        array[i]=c2\n",
    "        i=i+1\n",
    "    end\n",
    "    return array\n",
    "end\n",
    "\n",
    "fibFunc(150)"
   ]
  },
  {
   "cell_type": "code",
   "execution_count": null,
   "metadata": {
    "collapsed": true
   },
   "outputs": [],
   "source": []
  }
 ],
 "metadata": {
  "kernelspec": {
   "display_name": "Julia",
   "language": "julia",
   "name": "julia-0.4"
  },
  "language_info": {
   "file_extension": ".jl",
   "mimetype": "application/julia",
   "name": "julia",
   "version": "0.4.0"
  },
  "name": "learnjulia.ipynb"
 },
 "nbformat": 4,
 "nbformat_minor": 0
}
